{
 "cells": [
  {
   "cell_type": "markdown",
   "metadata": {},
   "source": [
    "**SOAL NO.1 FILE WAV**"
   ]
  },
  {
   "cell_type": "code",
   "execution_count": 27,
   "metadata": {
    "_cell_guid": "b1076dfc-b9ad-4769-8c92-a6c4dae69d19",
    "_uuid": "8f2839f25d086af736a60e9eeb907d3b93b6e0e5",
    "execution": {
     "iopub.execute_input": "2023-03-09T08:46:53.434266Z",
     "iopub.status.busy": "2023-03-09T08:46:53.433868Z",
     "iopub.status.idle": "2023-03-09T08:46:53.440796Z",
     "shell.execute_reply": "2023-03-09T08:46:53.439510Z",
     "shell.execute_reply.started": "2023-03-09T08:46:53.434232Z"
    }
   },
   "outputs": [
    {
     "name": "stdout",
     "output_type": "stream",
     "text": [
      "Ukuran file dari /kaggle/input/wav-file/note_08_20221305.wav adalah 352844 bytes.\n"
     ]
    }
   ],
   "source": [
    "import os\n",
    "\n",
    "# tentukan nama file\n",
    "nama_file = \"/kaggle/input/wav-file/note_08_20221305.wav\"\n",
    "\n",
    "# gunakan os.path.getsize untuk mendapatkan ukuran file dalam bytes\n",
    "ukuran_file = os.path.getsize(nama_file)\n",
    "\n",
    "print(f\"Ukuran file dari {nama_file} adalah {ukuran_file} bytes.\")\n"
   ]
  },
  {
   "cell_type": "code",
   "execution_count": 28,
   "metadata": {
    "execution": {
     "iopub.execute_input": "2023-03-09T08:46:53.444246Z",
     "iopub.status.busy": "2023-03-09T08:46:53.443492Z",
     "iopub.status.idle": "2023-03-09T08:46:53.465014Z",
     "shell.execute_reply": "2023-03-09T08:46:53.463519Z",
     "shell.execute_reply.started": "2023-03-09T08:46:53.444196Z"
    }
   },
   "outputs": [
    {
     "name": "stdout",
     "output_type": "stream",
     "text": [
      "Durasi dari file /kaggle/input/wav-file/note_08_20221305.wav adalah 4.0 detik.\n"
     ]
    }
   ],
   "source": [
    "import wave\n",
    "import contextlib\n",
    "\n",
    "# tentukan nama file WAV\n",
    "nama_file = \"/kaggle/input/wav-file/note_08_20221305.wav\"\n",
    "\n",
    "# buka file WAV menggunakan modul wave\n",
    "with wave.open(nama_file, \"r\") as wave_file:\n",
    "    # dapatkan framerate (jumlah frame per detik) dari file WAV\n",
    "    frame_rate = wave_file.getframerate()\n",
    "\n",
    "# dapatkan durasi file WAV menggunakan modul contextlib\n",
    "with contextlib.closing(wave.open(nama_file, \"r\")) as wave_file:\n",
    "    frames = wave_file.getnframes()\n",
    "    durasi = frames / float(frame_rate)\n",
    "\n",
    "print(f\"Durasi dari file {nama_file} adalah {durasi} detik.\")\n"
   ]
  },
  {
   "cell_type": "code",
   "execution_count": 29,
   "metadata": {
    "execution": {
     "iopub.execute_input": "2023-03-09T08:46:53.467022Z",
     "iopub.status.busy": "2023-03-09T08:46:53.466423Z",
     "iopub.status.idle": "2023-03-09T08:46:53.480476Z",
     "shell.execute_reply": "2023-03-09T08:46:53.479224Z",
     "shell.execute_reply.started": "2023-03-09T08:46:53.466943Z"
    }
   },
   "outputs": [
    {
     "name": "stdout",
     "output_type": "stream",
     "text": [
      "Sample rate dari file /kaggle/input/wav-file/note_08_20221305.wav adalah 44100 Hz.\n"
     ]
    }
   ],
   "source": [
    "import wave\n",
    "\n",
    "# tentukan nama file WAV\n",
    "nama_file = \"/kaggle/input/wav-file/note_08_20221305.wav\"\n",
    "\n",
    "# buka file WAV menggunakan modul wave\n",
    "with wave.open(nama_file, \"r\") as wave_file:\n",
    "    # dapatkan sample rate dari file WAV\n",
    "    sample_rate = wave_file.getframerate()\n",
    "\n",
    "print(f\"Sample rate dari file {nama_file} adalah {sample_rate} Hz.\")\n"
   ]
  },
  {
   "cell_type": "code",
   "execution_count": 30,
   "metadata": {
    "execution": {
     "iopub.execute_input": "2023-03-09T08:46:53.483386Z",
     "iopub.status.busy": "2023-03-09T08:46:53.483045Z",
     "iopub.status.idle": "2023-03-09T08:46:53.720675Z",
     "shell.execute_reply": "2023-03-09T08:46:53.719679Z",
     "shell.execute_reply.started": "2023-03-09T08:46:53.483354Z"
    }
   },
   "outputs": [
    {
     "name": "stdout",
     "output_type": "stream",
     "text": [
      "Sample rate dari file /kaggle/input/wav-file/note_08_20221305.wav adalah 44100 Hz.\n",
      "Jumlah sample adalah 176400.\n",
      "Frekuensi maksimum yang dapat ditampilkan adalah 22050.0 Hz.\n",
      "Frekuensi yang terdeteksi adalah 88201.\n",
      "Frekuensi pertama adalah 0.0 Hz.\n",
      "Frekuensi terakhir adalah 22050.0 Hz.\n"
     ]
    },
    {
     "data": {
      "image/png": "[encoded data removed]",
      "text/plain": [
       "<Figure size 640x480 with 1 Axes>"
      ]
     },
     "metadata": {},
     "output_type": "display_data"
    }
   ],
   "source": [
    "import numpy as np\n",
    "from scipy.fft import rfft\n",
    "import wave\n",
    "import matplotlib.pyplot as plt\n",
    "\n",
    "\n",
    "# tentukan nama file WAV\n",
    "nama_file = \"/kaggle/input/wav-file/note_08_20221305.wav\"\n",
    "\n",
    "# buka file WAV menggunakan modul wave\n",
    "with wave.open(nama_file, \"r\") as wave_file:\n",
    "    # baca data dari file WAV dan ubah ke dalam format array numpy\n",
    "    data = np.frombuffer(wave_file.readframes(-1), dtype='int16')\n",
    "    # dapatkan sample rate dari file WAV\n",
    "    sample_rate = wave_file.getframerate()\n",
    "\n",
    "# hitung FFT menggunakan rfft dari modul scipy.fft\n",
    "fft = rfft(data)\n",
    "\n",
    "# hitung jumlah sample\n",
    "jumlah_sample = len(data)\n",
    "\n",
    "# hitung frekuensi\n",
    "frekuensi = np.fft.rfftfreq(jumlah_sample, d=1/sample_rate)\n",
    "\n",
    "# menghitung nilai amplitudo dari FFT\n",
    "amplitude = np.abs(fft)\n",
    "\n",
    "# tampilkan hasil\n",
    "print(f\"Sample rate dari file {nama_file} adalah {sample_rate} Hz.\")\n",
    "print(f\"Jumlah sample adalah {jumlah_sample}.\")\n",
    "print(f\"Frekuensi maksimum yang dapat ditampilkan adalah {sample_rate/2} Hz.\")\n",
    "print(f\"Frekuensi yang terdeteksi adalah {len(frekuensi)}.\")\n",
    "print(f\"Frekuensi pertama adalah {frekuensi[0]} Hz.\")\n",
    "print(f\"Frekuensi terakhir adalah {frekuensi[-1]} Hz.\")\n",
    "\n",
    "\n",
    "# membuat plot amplitudo vs frekuensi\n",
    "plt.plot(frekuensi, amplitude)\n",
    "plt.xlabel('Frekuensi (Hz)')\n",
    "plt.ylabel('Amplitudo')\n",
    "plt.show()"
   ]
  },
  {
   "cell_type": "code",
   "execution_count": 31,
   "metadata": {
    "execution": {
     "iopub.execute_input": "2023-03-09T08:46:53.722718Z",
     "iopub.status.busy": "2023-03-09T08:46:53.721820Z",
     "iopub.status.idle": "2023-03-09T08:46:53.762737Z",
     "shell.execute_reply": "2023-03-09T08:46:53.761163Z",
     "shell.execute_reply.started": "2023-03-09T08:46:53.722681Z"
    }
   },
   "outputs": [
    {
     "name": "stdout",
     "output_type": "stream",
     "text": [
      "Tiga frekuensi puncak terbesar adalah:\n",
      "100.00 Hz\n",
      "500.00 Hz\n",
      "1000.00 Hz\n"
     ]
    }
   ],
   "source": [
    "import soundfile as sf\n",
    "import numpy as np\n",
    "\n",
    "audio, samplerate = sf.read('/kaggle/input/wav-file/note_08_20221305.wav')\n",
    "\n",
    "from scipy.fft import rfft\n",
    "\n",
    "X = rfft(audio)\n",
    "N = len(audio)\n",
    "freqs = np.fft.fftfreq(N, d=1/samplerate)[:N//2+1]\n",
    "peak_indices = np.argsort(np.abs(X))[-3:]\n",
    "\n",
    "# 3 frekuensi puncak terbesar\n",
    "peak_freqs = freqs[peak_indices]\n",
    "print(\"Tiga frekuensi puncak terbesar adalah:\")\n",
    "for freq in peak_freqs:\n",
    "    print(\"{:.2f} Hz\".format(freq))"
   ]
  },
  {
   "cell_type": "markdown",
   "metadata": {},
   "source": [
    "**SOAL NO.2 FILE PNG**"
   ]
  },
  {
   "cell_type": "code",
   "execution_count": 32,
   "metadata": {
    "execution": {
     "iopub.execute_input": "2023-03-09T08:46:53.764438Z",
     "iopub.status.busy": "2023-03-09T08:46:53.764107Z",
     "iopub.status.idle": "2023-03-09T08:46:53.781475Z",
     "shell.execute_reply": "2023-03-09T08:46:53.780297Z",
     "shell.execute_reply.started": "2023-03-09T08:46:53.764404Z"
    }
   },
   "outputs": [
    {
     "name": "stdout",
     "output_type": "stream",
     "text": [
      "Ukuran file dari /kaggle/input/wav-file/20221305.png adalah 1804 bytes.\n"
     ]
    }
   ],
   "source": [
    "import os\n",
    "\n",
    "# tentukan nama file\n",
    "nama_file = \"/kaggle/input/wav-file/20221305.png\"\n",
    "\n",
    "# gunakan os.path.getsize untuk mendapatkan ukuran file dalam bytes\n",
    "ukuran_file = os.path.getsize(nama_file)\n",
    "\n",
    "print(f\"Ukuran file dari {nama_file} adalah {ukuran_file} bytes.\")"
   ]
  },
  {
   "cell_type": "code",
   "execution_count": 33,
   "metadata": {
    "execution": {
     "iopub.execute_input": "2023-03-09T08:46:53.783514Z",
     "iopub.status.busy": "2023-03-09T08:46:53.783054Z",
     "iopub.status.idle": "2023-03-09T08:46:53.794376Z",
     "shell.execute_reply": "2023-03-09T08:46:53.793093Z",
     "shell.execute_reply.started": "2023-03-09T08:46:53.783465Z"
    }
   },
   "outputs": [
    {
     "name": "stdout",
     "output_type": "stream",
     "text": [
      "Ukuran citra: 100 x 100\n"
     ]
    }
   ],
   "source": [
    "from PIL import Image\n",
    "\n",
    "# Buka file gambar PNG\n",
    "im = Image.open(\"/kaggle/input/wav-file/20221305.png\")\n",
    "\n",
    "# Dapatkan ukuran citra\n",
    "width, height = im.size\n",
    "\n",
    "print(\"Ukuran citra: {} x {}\".format(width, height))\n"
   ]
  },
  {
   "cell_type": "code",
   "execution_count": 34,
   "metadata": {
    "execution": {
     "iopub.execute_input": "2023-03-09T08:46:53.796250Z",
     "iopub.status.busy": "2023-03-09T08:46:53.795912Z",
     "iopub.status.idle": "2023-03-09T08:46:53.820383Z",
     "shell.execute_reply": "2023-03-09T08:46:53.819063Z",
     "shell.execute_reply.started": "2023-03-09T08:46:53.796215Z"
    }
   },
   "outputs": [
    {
     "name": "stdout",
     "output_type": "stream",
     "text": [
      "Format pixel citra: RGBA\n"
     ]
    }
   ],
   "source": [
    "from PIL import Image\n",
    "\n",
    "# Buka file gambar PNG\n",
    "im = Image.open(\"/kaggle/input/wav-file/20221305.png\")\n",
    "\n",
    "# Dapatkan format pixel citra\n",
    "pixel_format = im.mode\n",
    "\n",
    "print(\"Format pixel citra: {}\".format(pixel_format))\n"
   ]
  },
  {
   "cell_type": "code",
   "execution_count": 35,
   "metadata": {
    "execution": {
     "iopub.execute_input": "2023-03-09T08:46:53.824882Z",
     "iopub.status.busy": "2023-03-09T08:46:53.824475Z",
     "iopub.status.idle": "2023-03-09T08:46:54.222374Z",
     "shell.execute_reply": "2023-03-09T08:46:54.221063Z",
     "shell.execute_reply.started": "2023-03-09T08:46:53.824846Z"
    }
   },
   "outputs": [
    {
     "name": "stderr",
     "output_type": "stream",
     "text": [
      "/opt/conda/lib/python3.7/site-packages/ipykernel_launcher.py:25: RuntimeWarning: divide by zero encountered in log10\n"
     ]
    },
    {
     "data": {
      "text/plain": [
       "Text(0.5, 1.0, 'Spektrum frekuensi')"
      ]
     },
     "execution_count": 35,
     "metadata": {},
     "output_type": "execute_result"
    },
    {
     "data": {
      "image/png": "[encoded data removed]",
      "text/plain": [
       "<Figure size 1000x500 with 2 Axes>"
      ]
     },
     "metadata": {},
     "output_type": "display_data"
    }
   ],
   "source": [
    "import numpy as np\n",
    "from PIL import Image\n",
    "import matplotlib.pyplot as plt\n",
    "\n",
    "# Buka file gambar PNG\n",
    "im = Image.open(\"/kaggle/input/wav-file/20221305.png\")\n",
    "\n",
    "# Konversi gambar menjadi array numpy\n",
    "arr = np.array(im)\n",
    "\n",
    "# Lakukan FFT 2-D\n",
    "arr_fft = np.fft.fft2(np.fft.ifftshift(arr))\n",
    "\n",
    "# Dapatkan ukuran gambar dan frekuensi sampel\n",
    "width, height = im.size\n",
    "freq_x = np.fft.fftfreq(width)\n",
    "freq_y = np.fft.fftfreq(height)\n",
    "\n",
    "# Plot gambar dan spektrum frekuensi\n",
    "fig, axs = plt.subplots(1, 2, figsize=(10, 5))\n",
    "\n",
    "axs[0].imshow(arr, cmap='gray')\n",
    "axs[0].set_title('Gambar asli')\n",
    "\n",
    "axs[1].imshow(np.log10(np.abs(np.fft.fftshift(arr_fft))), cmap='gray', extent=[freq_x.min(), freq_x.max(), freq_y.min(), freq_y.max()])\n",
    "axs[1].set_title('Spektrum frekuensi')"
   ]
  }
 ],
 "metadata": {
  "kernelspec": {
   "display_name": "Python 3 (ipykernel)",
   "language": "python",
   "name": "python3"
  },
  "language_info": {
   "codemirror_mode": {
    "name": "ipython",
    "version": 3
   },
   "file_extension": ".py",
   "mimetype": "text/x-python",
   "name": "python",
   "nbconvert_exporter": "python",
   "pygments_lexer": "ipython3",
   "version": "3.10.9"
  }
 },
 "nbformat": 4,
 "nbformat_minor": 4
}
